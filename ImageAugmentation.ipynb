{
 "cells": [
  {
   "cell_type": "code",
   "execution_count": 7,
   "id": "a0b34334",
   "metadata": {},
   "outputs": [
    {
     "name": "stdout",
     "output_type": "stream",
     "text": [
      "Defaulting to user installation because normal site-packages is not writeable\n",
      "Requirement already satisfied: pillow in c:\\programdata\\anaconda3\\lib\\site-packages (9.2.0)\n",
      "Note: you may need to restart the kernel to use updated packages.\n"
     ]
    },
    {
     "name": "stderr",
     "output_type": "stream",
     "text": [
      "WARNING: Ignoring invalid distribution -pencv-python (c:\\users\\dell\\appdata\\roaming\\python\\python39\\site-packages)\n",
      "WARNING: Ignoring invalid distribution -pencv-python (c:\\users\\dell\\appdata\\roaming\\python\\python39\\site-packages)\n",
      "WARNING: Ignoring invalid distribution -pencv-python (c:\\users\\dell\\appdata\\roaming\\python\\python39\\site-packages)\n",
      "WARNING: Ignoring invalid distribution -pencv-python (c:\\users\\dell\\appdata\\roaming\\python\\python39\\site-packages)\n",
      "WARNING: Ignoring invalid distribution -pencv-python (c:\\users\\dell\\appdata\\roaming\\python\\python39\\site-packages)\n",
      "WARNING: Ignoring invalid distribution -pencv-python (c:\\users\\dell\\appdata\\roaming\\python\\python39\\site-packages)\n"
     ]
    }
   ],
   "source": [
    "pip install pillow"
   ]
  },
  {
   "cell_type": "code",
   "execution_count": 21,
   "id": "3b8210b1",
   "metadata": {},
   "outputs": [
    {
     "name": "stdout",
     "output_type": "stream",
     "text": [
      "['rgb_176.png', 'rgb_177.png', 'rgb_178.png', 'rgb_179.png', 'rgb_180.png', 'rgb_181.png', 'rgb_182.png', 'rgb_183.png', 'rgb_184.png', 'rgb_185.png', 'rgb_186.png', 'rgb_187.png', 'rgb_188.png', 'rgb_189.png', 'rgb_190.png', 'rgb_191.png', 'rgb_192.png', 'rgb_193.png', 'rgb_194.png', 'rgb_195.png', 'rgb_196.png', 'rgb_197.png', 'rgb_198.png', 'rgb_199.png', 'rgb_200.png', 'rgb_201.png', 'rgb_202.png', 'rgb_203.png', 'rgb_204.png', 'rgb_205.png', 'rgb_206.png', 'rgb_207.png', 'rgb_208.png', 'rgb_209.png', 'rgb_210.png', 'rgb_211.png', 'rgb_212.png', 'rgb_213.png', 'rgb_214.png', 'rgb_215.png', 'rgb_216.png', 'rgb_217.png', 'rgb_218.png', 'rgb_219.png', 'rgb_220.png', 'rgb_221.png', 'rgb_222.png', 'rgb_223.png', 'rgb_224.png', 'rgb_225.png', 'rgb_226.png', 'rgb_227.png', 'rgb_228.png', 'rgb_229.png', 'rgb_230.png', 'rgb_231.png', 'rgb_232.png', 'rgb_233.png', 'rgb_234.png', 'rgb_235.png', 'rgb_236.png', 'rgb_237.png', 'rgb_238.png', 'rgb_239.png', 'rgb_240.png', 'rgb_241.png', 'rgb_242.png', 'rgb_243.png', 'rgb_244.png', 'rgb_245.png', 'rgb_246.png', 'rgb_247.png', 'rgb_248.png', 'rgb_249.png', 'rgb_250.png', 'rgb_251.png']\n"
     ]
    }
   ],
   "source": [
    "from keras.preprocessing.image import ImageDataGenerator\n",
    "from PIL import Image\n",
    "import os\n",
    "import numpy as np\n",
    "import matplotlib.pyplot as plt\n",
    "\n",
    "# Directory containing original images\n",
    "original_data_dir = r'D:\\Users\\DELL\\Desktop\\fall23\\cvip\\DensityClasses_OneRow_Side_60VFOV_GrapevineInstanceSegmentation\\test\\0'\n",
    "# Directory to save augmented images\n",
    "augmented_data_dir = r'D:\\Users\\DELL\\Desktop\\fall23\\cvip\\DensityClasses_OneRow_Side_60VFOV_GrapevineInstanceSegmentation\\augmented\\test\\0'\n",
    "\n",
    "# Ensure the augmented data directory exists\n",
    "if not os.path.exists(augmented_data_dir):\n",
    "    os.makedirs(augmented_data_dir)\n",
    "\n",
    "# Initialize the ImageDataGenerator with desired augmentations\n",
    "datagen = ImageDataGenerator(\n",
    "    rotation_range=40,\n",
    "    width_shift_range=0.2,\n",
    "    height_shift_range=0.2,\n",
    "    shear_range=0.2,\n",
    "    zoom_range=0.2,\n",
    "    horizontal_flip=True,\n",
    "    fill_mode='nearest'\n",
    ")\n",
    "\n",
    "# Read all image files from the original data directory\n",
    "image_files = [f for f in os.listdir(original_data_dir) if f.endswith('.jpg') or f.endswith('.png')]\n",
    "\n",
    "print(image_files)\n",
    "# Augment and save each image\n",
    "for img_file in image_files:\n",
    "    img_path = os.path.join(original_data_dir, img_file)\n",
    "    img = Image.open(img_path)\n",
    "    x = np.array(img)\n",
    "    x = np.expand_dims(x, axis=0)\n",
    "\n",
    "    i = 0\n",
    "    for batch in datagen.flow(x, batch_size=1, save_to_dir=augmented_data_dir, save_prefix=f'aug_{os.path.splitext(img_file)[0]}', save_format='png'):\n",
    "        i += 1\n",
    "        if i >= 5:  # Generate 5 augmented images for each input image\n",
    "            break"
   ]
  },
  {
   "cell_type": "code",
   "execution_count": null,
   "id": "eb834b7c",
   "metadata": {},
   "outputs": [],
   "source": []
  }
 ],
 "metadata": {
  "kernelspec": {
   "display_name": "Python 3 (ipykernel)",
   "language": "python",
   "name": "python3"
  },
  "language_info": {
   "codemirror_mode": {
    "name": "ipython",
    "version": 3
   },
   "file_extension": ".py",
   "mimetype": "text/x-python",
   "name": "python",
   "nbconvert_exporter": "python",
   "pygments_lexer": "ipython3",
   "version": "3.9.13"
  }
 },
 "nbformat": 4,
 "nbformat_minor": 5
}
